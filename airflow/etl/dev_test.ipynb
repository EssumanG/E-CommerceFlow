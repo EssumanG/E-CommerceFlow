{
 "cells": [
  {
   "cell_type": "code",
   "execution_count": 1,
   "id": "5cb5c59b-49f2-4bce-ac8a-67017f164e1a",
   "metadata": {},
   "outputs": [],
   "source": [
    "from pyspark.sql import SparkSession\n",
    "from pyspark.sql.types import StructField, StructType, StringType, IntegerType, DateType, DoubleType\n",
    "from pyspark.sql import functions as F\n",
    "import psycopg2"
   ]
  },
  {
   "cell_type": "code",
   "execution_count": 10,
   "id": "1559c6c0-956b-4462-964d-5d1abfa7f358",
   "metadata": {},
   "outputs": [],
   "source": [
    "spark = SparkSession.builder.appName(\"test_data_processing\")\\\n",
    "    .config(\"spark.jars\", \"/opt/bitnami/spark/jars/postgresql-42.5.0.jar\")\\\n",
    "    .enableHiveSupport().getOrCreate()\n",
    "\n",
    "\n",
    "schema = StructType([\n",
    "    StructField(\"customer_id\", StringType(), True),\n",
    "    StructField(\"customer_first_name\", StringType(), True),\n",
    "    StructField(\"customer_last_name\", StringType(), True),\n",
    "    StructField(\"category_name\", StringType(), True),\n",
    "    StructField(\"product_name\", StringType(), True),\n",
    "    StructField(\"customer_segment\", StringType(), True),\n",
    "    StructField(\"customer_city\", StringType(), True),\n",
    "    StructField(\"customer_state\", StringType(), True),\n",
    "    StructField(\"customer_country\", StringType(), True),\n",
    "    StructField(\"customer_region\", StringType(), True),\n",
    "    StructField(\"delivery_status\", StringType(), True),\n",
    "    StructField(\"order_date\", StringType(), True),\n",
    "    StructField(\"order_id\", StringType(), True),\n",
    "    StructField(\"ship_date\", StringType(), True),\n",
    "    StructField(\"shipping_type\", StringType(), True),\n",
    "    StructField(\"days_for_shipment_scheduled\", IntegerType(), True),\n",
    "    StructField(\"days_for_shipment_real\", IntegerType(), True),\n",
    "    StructField(\"order_item_discount\", DoubleType(), True),\n",
    "    StructField(\"sales_per_order\", DoubleType(), True),\n",
    "    StructField(\"order_quantity\", IntegerType(), True),\n",
    "    StructField(\"profit_per_order\", DoubleType(), True)\n",
    "])"
   ]
  },
  {
   "cell_type": "code",
   "execution_count": 11,
   "id": "c873ae14-383f-4c1b-bd9c-fd1d27bf3f05",
   "metadata": {},
   "outputs": [],
   "source": [
    "df = spark.read.option(\"header\",True).schema(schema).csv(\"./data/ecommerce/Ecommerce_data.csv\")"
   ]
  },
  {
   "cell_type": "code",
   "execution_count": 12,
   "id": "5b52fa8b-bab5-4643-bee1-e09fe967c8ee",
   "metadata": {},
   "outputs": [],
   "source": [
    "# df.printSchema()\n",
    "df = df.withColumn(\"order_date\", F.to_date(\"order_date\", \"yyyy-MM-dd\"))\n",
    "df = df.withColumn(\"ship_date\", F.to_date(\"ship_date\", \"yyyy-MM-dd\"))\n",
    "df = df.withColumn(\"customer_name\", F.concat_ws(\",\",\"customer_first_name\",\"customer_last_name\"))"
   ]
  },
  {
   "cell_type": "code",
   "execution_count": 14,
   "id": "29dcbf25-18a7-49b3-8ed9-36971ef678ea",
   "metadata": {},
   "outputs": [],
   "source": [
    "df_new = df.drop(\"profit_per_order\", \"customer_first_name\", \"customer_last_name\" )"
   ]
  },
  {
   "cell_type": "code",
   "execution_count": 15,
   "id": "5cb03116-d8f0-47d9-b2b9-9e8a9d0e3f41",
   "metadata": {},
   "outputs": [
    {
     "name": "stdout",
     "output_type": "stream",
     "text": [
      "root\n",
      " |-- customer_id: string (nullable = true)\n",
      " |-- category_name: string (nullable = true)\n",
      " |-- product_name: string (nullable = true)\n",
      " |-- customer_segment: string (nullable = true)\n",
      " |-- customer_city: string (nullable = true)\n",
      " |-- customer_state: string (nullable = true)\n",
      " |-- customer_country: string (nullable = true)\n",
      " |-- customer_region: string (nullable = true)\n",
      " |-- delivery_status: string (nullable = true)\n",
      " |-- order_date: date (nullable = true)\n",
      " |-- order_id: string (nullable = true)\n",
      " |-- ship_date: date (nullable = true)\n",
      " |-- shipping_type: string (nullable = true)\n",
      " |-- days_for_shipment_scheduled: integer (nullable = true)\n",
      " |-- days_for_shipment_real: integer (nullable = true)\n",
      " |-- order_item_discount: double (nullable = true)\n",
      " |-- sales_per_order: double (nullable = true)\n",
      " |-- order_quantity: integer (nullable = true)\n",
      " |-- customer_name: string (nullable = false)\n",
      "\n"
     ]
    }
   ],
   "source": [
    "df_new.printSchema()"
   ]
  },
  {
   "cell_type": "code",
   "execution_count": 23,
   "id": "186c70dc-527f-4e4d-a712-bf0649a71987",
   "metadata": {},
   "outputs": [],
   "source": [
    "db_url = \"jdbc:postgresql://postgres:5432/airflow\"\n",
    "db_properties = {\"user\": \"airflow\", \"password\": \"airflow\", \"driver\": \"org.postgresql.Driver\"}\n",
    "df_new.write.format(\"jdbc\") \\\n",
    "    .option(\"url\", db_url) \\\n",
    "    .option(\"dbtable\", \"public.ecommerce\") \\\n",
    "    .option(\"user\", db_properties[\"user\"]) \\\n",
    "    .option(\"password\", db_properties[\"password\"]) \\\n",
    "    .option(\"driver\", db_properties[\"driver\"]) \\\n",
    "    .mode(\"append\") \\\n",
    "    .save()"
   ]
  },
  {
   "cell_type": "code",
   "execution_count": null,
   "id": "f5d59566-c845-4269-b0fd-a2c216cc3f58",
   "metadata": {},
   "outputs": [],
   "source": []
  }
 ],
 "metadata": {
  "kernelspec": {
   "display_name": "Python 3 (ipykernel)",
   "language": "python",
   "name": "python3"
  },
  "language_info": {
   "codemirror_mode": {
    "name": "ipython",
    "version": 3
   },
   "file_extension": ".py",
   "mimetype": "text/x-python",
   "name": "python",
   "nbconvert_exporter": "python",
   "pygments_lexer": "ipython3",
   "version": "3.11.6"
  }
 },
 "nbformat": 4,
 "nbformat_minor": 5
}
