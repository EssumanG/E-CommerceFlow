{
 "cells": [
  {
   "cell_type": "code",
   "execution_count": 3,
   "id": "5cb5c59b-49f2-4bce-ac8a-67017f164e1a",
   "metadata": {},
   "outputs": [],
   "source": [
    "from utils.model import Connection"
   ]
  },
  {
   "cell_type": "markdown",
   "id": "6ea33233-a09d-4c60-9d96-d35c40fc16f1",
   "metadata": {},
   "source": [
    "## Creat a database connection"
   ]
  },
  {
   "cell_type": "code",
   "execution_count": 17,
   "id": "1559c6c0-956b-4462-964d-5d1abfa7f358",
   "metadata": {},
   "outputs": [],
   "source": [
    "connection = Connection(\n",
    "    user=\"airflow\",\n",
    "    host=\"postgres\",\n",
    "    password=\"airflow\",\n",
    "    port=5432,\n",
    "    database=\"ecommerce\"\n",
    ")"
   ]
  },
  {
   "cell_type": "markdown",
   "id": "35635fd5-77c8-4517-8201-5c6b443fc10c",
   "metadata": {},
   "source": [
    "### Create Customer Table"
   ]
  },
  {
   "cell_type": "code",
   "execution_count": 18,
   "id": "c873ae14-383f-4c1b-bd9c-fd1d27bf3f05",
   "metadata": {},
   "outputs": [
    {
     "name": "stdout",
     "output_type": "stream",
     "text": [
      "Table created successfully.\n"
     ]
    }
   ],
   "source": [
    "with connection.get_cursor() as cursor:\n",
    "    try:\n",
    "        cursor.execute(\"\"\"\n",
    "            CREATE TABLE IF NOT EXISTS Customers (\n",
    "                customer_id VARCHAR(255) PRIMARY KEY, \n",
    "                customer_first_name VARCHAR(100),\n",
    "                customer_last_name VARCHAR(100),\n",
    "                customer_segment VARCHAR(200),\n",
    "                customer_city VARCHAR(100),\n",
    "                customer_state VARCHAR(100),\n",
    "                customer_country VARCHAR(100),\n",
    "                customer_region VARCHAR(100)    \n",
    "                );\n",
    "            \"\"\")\n",
    "        print(\"Table created successfully.\")\n",
    "    except psycopg2.Error as e:\n",
    "        print(\"Error:\", e)"
   ]
  },
  {
   "cell_type": "markdown",
   "id": "c24d5248-5f43-43ae-811e-a294234b180b",
   "metadata": {},
   "source": [
    "### Create Category Table"
   ]
  },
  {
   "cell_type": "code",
   "execution_count": 22,
   "id": "b44718bd-e939-4f52-8953-e29dd1781cb4",
   "metadata": {},
   "outputs": [
    {
     "name": "stdout",
     "output_type": "stream",
     "text": [
      "Table created successfully.\n"
     ]
    }
   ],
   "source": [
    "with connection.get_cursor() as cursor:\n",
    "    try:\n",
    "        cursor.execute(\"\"\"\n",
    "            CREATE TABLE IF NOT EXISTS Categories(\n",
    "                category_id SERIAL PRIMARY KEY,\n",
    "                category_name VARCHAR(200)\n",
    "                );\n",
    "    \"\"\")\n",
    "        print(\"Table created successfully.\")\n",
    "    except psycopg2.Error as e:\n",
    "        print(\"Error:\", e)"
   ]
  },
  {
   "cell_type": "markdown",
   "id": "cdf68c2e-56ea-4a79-860a-6d8a678b1a39",
   "metadata": {},
   "source": [
    "### Create Product Table"
   ]
  },
  {
   "cell_type": "code",
   "execution_count": 25,
   "id": "c1e88702-6828-462f-8196-6bf134959d74",
   "metadata": {},
   "outputs": [
    {
     "name": "stdout",
     "output_type": "stream",
     "text": [
      "Table created successfully.\n"
     ]
    }
   ],
   "source": [
    "with connection.get_cursor() as cursor:\n",
    "    try:\n",
    "        cursor.execute(\"\"\"\n",
    "            CREATE TABLE IF NOT EXISTS Products(\n",
    "                product_id UUID PRIMARY KEY DEFAULT uuid_generate_v4(),\n",
    "                product_name TEXT,\n",
    "                category_id INT,\n",
    "                FOREIGN KEY (category_id) REFERENCES Categories(category_id) \n",
    "                );\n",
    "            \"\"\")\n",
    "        print(\"Table created successfully.\")\n",
    "    except psycopg2.Error as e:\n",
    "        print(\"Error:\", e)"
   ]
  },
  {
   "cell_type": "markdown",
   "id": "f5e2b558-da13-4443-8bf4-a0b57bc5800d",
   "metadata": {},
   "source": [
    "### Create Orders Table"
   ]
  },
  {
   "cell_type": "code",
   "execution_count": 28,
   "id": "68596fbd-a13c-4c77-8dde-912506d8d75b",
   "metadata": {},
   "outputs": [
    {
     "name": "stdout",
     "output_type": "stream",
     "text": [
      "Table created successfully.\n"
     ]
    }
   ],
   "source": [
    "with connection.get_cursor() as cursor:\n",
    "    try:\n",
    "        cursor.execute(\"\"\"\n",
    "        CREATE TABLE IF NOT EXISTS Orders(\n",
    "            order_id VARCHAR(200) PRIMARY KEY,\n",
    "            customer_id VARCHAR(200), \n",
    "            order_date DATE,\n",
    "            delivery_status VARCHAR(100),\n",
    "            shipping_type VARCHAR(100),\n",
    "            ship_date DATE,\n",
    "            days_for_shipment_scheduled INT,\n",
    "            days_for_shipment_real INT,\n",
    "            sales_per_order INT,  \n",
    "            profit_per_order DOUBLE PRECISION,\n",
    "            FOREIGN KEY (customer_id) REFERENCES Customers(customer_id)\n",
    "            );\n",
    "        \"\"\")\n",
    "        print(\"Table created successfully.\")\n",
    "    except psycopg2.Error as e:\n",
    "        print(\"Error:\", e)"
   ]
  },
  {
   "cell_type": "markdown",
   "id": "4ac4de68-812b-405e-92f5-433788d26757",
   "metadata": {},
   "source": [
    "### Create Order Items Table"
   ]
  },
  {
   "cell_type": "code",
   "execution_count": 33,
   "id": "c507d5bb-4a26-4351-98e1-631871541754",
   "metadata": {},
   "outputs": [
    {
     "name": "stdout",
     "output_type": "stream",
     "text": [
      "Table created successfully.\n"
     ]
    }
   ],
   "source": [
    "with connection.get_cursor() as cursor:\n",
    "    try:\n",
    "        cursor.execute(\"\"\"\n",
    "            CREATE TABLE IF NOT EXISTS Order_Items(\n",
    "                order_item_id UUID PRIMARY KEY DEFAULT uuid_generate_v4(),\n",
    "                order_id VARCHAR(200),\n",
    "                product_id UUID REFERENCES products(product_id),\n",
    "                order_item_discount INT,\n",
    "                FOREIGN KEY (order_id) REFERENCES Orders(order_id),\n",
    "                FOREIGN KEY (product_id) REFERENCES Products(product_id)\n",
    "                );\n",
    "            \"\"\")\n",
    "        print(\"Table created successfully.\")\n",
    "    except psycopg2.Error as e:\n",
    "        print(\"Error:\", e)"
   ]
  },
  {
   "cell_type": "code",
   "execution_count": null,
   "id": "39a369fe-cea4-4bba-92ed-536f7d9bf481",
   "metadata": {},
   "outputs": [],
   "source": []
  },
  {
   "cell_type": "code",
   "execution_count": null,
   "id": "f5d59566-c845-4269-b0fd-a2c216cc3f58",
   "metadata": {},
   "outputs": [],
   "source": []
  }
 ],
 "metadata": {
  "kernelspec": {
   "display_name": "Python 3 (ipykernel)",
   "language": "python",
   "name": "python3"
  },
  "language_info": {
   "codemirror_mode": {
    "name": "ipython",
    "version": 3
   },
   "file_extension": ".py",
   "mimetype": "text/x-python",
   "name": "python",
   "nbconvert_exporter": "python",
   "pygments_lexer": "ipython3",
   "version": "3.11.6"
  }
 },
 "nbformat": 4,
 "nbformat_minor": 5
}
