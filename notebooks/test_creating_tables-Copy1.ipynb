{
 "cells": [
  {
   "cell_type": "code",
   "execution_count": 7,
   "id": "5cb5c59b-49f2-4bce-ac8a-67017f164e1a",
   "metadata": {},
   "outputs": [],
   "source": [
    "from pyspark.sql import SparkSession\n",
    "from pyspark.sql.types import StructField, StructType, StringType, IntegerType, DateType, DoubleType\n",
    "from pyspark.sql import functions as F\n",
    "import psycopg2, uuid"
   ]
  },
  {
   "cell_type": "code",
   "execution_count": 54,
   "id": "1559c6c0-956b-4462-964d-5d1abfa7f358",
   "metadata": {},
   "outputs": [],
   "source": [
    "spark = SparkSession.builder.appName(\"Creating_Tables\")\\\n",
    "    .getOrCreate()\n",
    "\n",
    "\n",
    "schema = StructType([\n",
    "    StructField(\"customer_id\", StringType(), True),\n",
    "    StructField(\"customer_first_name\", StringType(), True),\n",
    "    StructField(\"customer_last_name\", StringType(), True),\n",
    "    StructField(\"category_name\", StringType(), True),\n",
    "    StructField(\"product_name\", StringType(), True),\n",
    "    StructField(\"customer_segment\", StringType(), True),\n",
    "    StructField(\"customer_city\", StringType(), True),\n",
    "    StructField(\"customer_state\", StringType(), True),\n",
    "    StructField(\"customer_country\", StringType(), True),\n",
    "    StructField(\"customer_region\", StringType(), True),\n",
    "    StructField(\"delivery_status\", StringType(), True),\n",
    "    StructField(\"order_date\", StringType(), True),\n",
    "    StructField(\"order_id\", StringType(), True),\n",
    "    StructField(\"ship_date\", StringType(), True),\n",
    "    StructField(\"shipping_type\", StringType(), True),\n",
    "    StructField(\"days_for_shipment_scheduled\", IntegerType(), True),\n",
    "    StructField(\"days_for_shipment_real\", IntegerType(), True),\n",
    "    StructField(\"order_item_discount\", DoubleType(), True),\n",
    "    StructField(\"sales_per_order\", DoubleType(), True),\n",
    "    StructField(\"order_quantity\", IntegerType(), True),\n",
    "    StructField(\"profit_per_order\", DoubleType(), True)\n",
    "])"
   ]
  },
  {
   "cell_type": "code",
   "execution_count": 66,
   "id": "c873ae14-383f-4c1b-bd9c-fd1d27bf3f05",
   "metadata": {},
   "outputs": [],
   "source": [
    "df = spark.read.option(\"header\",True).schema(schema).csv(\"../data/ecommerce/Ecommerce_data.csv\")"
   ]
  },
  {
   "cell_type": "code",
   "execution_count": 67,
   "id": "d719e957-d2da-4ff4-92ff-8a7a4f573d50",
   "metadata": {},
   "outputs": [
    {
     "name": "stdout",
     "output_type": "stream",
     "text": [
      "+------------+----------+-----------------+--------------+----------+---------------------------+----------------------+\n",
      "|    order_id|order_date|  delivery_status| shipping_type| ship_date|days_for_shipment_scheduled|days_for_shipment_real|\n",
      "+------------+----------+-----------------+--------------+----------+---------------------------+----------------------+\n",
      "|O_ID_3001072| 11/5/2022| Shipping on time|  Second Class| 11/7/2022|                          2|                     2|\n",
      "|O_ID_3009170|20-06-2022|Shipping canceled|  Second Class|23-06-2022|                          2|                     3|\n",
      "|O_ID_3047567|25-06-2022|    Late delivery|Standard Class|30-06-2022|                          4|                     5|\n",
      "|O_ID_3060575| 10/6/2022|    Late delivery|  Second Class|10/10/2022|                          2|                     4|\n",
      "|O_ID_3064311|  2/5/2022|    Late delivery|   First Class|  8/1/2022|                          1|                     2|\n",
      "|O_ID_3074984|24-06-2022| Shipping on time|Standard Class|28-06-2022|                          4|                     4|\n",
      "|O_ID_3000007| 7/10/2022| Advance shipping|Standard Class|16-04-2022|                          4|                     3|\n",
      "|O_ID_3000008|26-01-2022| Shipping on time|Standard Class|30-01-2022|                          4|                     4|\n",
      "|O_ID_3000009|  9/3/2022| Shipping on time|Standard Class|  9/7/2022|                          4|                     4|\n",
      "|O_ID_3000010|19-03-2022|    Late delivery|Standard Class|25-03-2022|                          4|                     6|\n",
      "+------------+----------+-----------------+--------------+----------+---------------------------+----------------------+\n",
      "only showing top 10 rows\n",
      "\n"
     ]
    }
   ],
   "source": [
    "order = df.select(\n",
    "    \"order_id\",\n",
    "    \"order_date\",\n",
    "    \"delivery_status\",\n",
    "    \"shipping_type\",\n",
    "    \"ship_date\",\n",
    "    \"days_for_shipment_scheduled\",\n",
    "    \"days_for_shipment_real\"\n",
    ")\n",
    "\n",
    "order.show(10)\n",
    "# df.printSchema()"
   ]
  },
  {
   "cell_type": "code",
   "execution_count": 81,
   "id": "5b52fa8b-bab5-4643-bee1-e09fe967c8ee",
   "metadata": {},
   "outputs": [],
   "source": [
    "# df.printSchema()\n",
    "# df = df.withColumn(\"order_date\", F.to_date(\"order_date\", \"yyyy-MM-dd\"))\n",
    "# df = df.withColumn(\"ship_date\", F.to_date(\"ship_date\", \"yyyy-MM-dd\"))\n",
    "\n",
    "\n",
    "df = df.withColumn(\"order_date_p1\",\n",
    "    F.coalesce(\n",
    "        F.to_date(F.col(\"order_date\"), \"d/M/yyyy\"),  # Handles \"11/5/2022\"\n",
    "        F.to_date(F.col(\"order_date\"), \"dd-MM-yyyy\") # Handles \"20-06-2022\"\n",
    "    ))\n",
    "# Drop the old column and rename the new one\n",
    "df = df.drop(\"order_date\").withColumnRenamed(\"order_date_p1\", \"order_date\")\n",
    "\n",
    "\n",
    "\n",
    "df = df.withColumn(\"ship_date_p1\",\n",
    "    F.coalesce(\n",
    "        F.to_date(F.col(\"ship_date\"), \"d/M/yyyy\"),  # Handles \"11/5/2022\"\n",
    "        F.to_date(F.col(\"ship_date\"), \"dd-MM-yyyy\") # Handles \"20-06-2022\"\n",
    "    ))\n",
    "# Drop the old column and rename the new one\n",
    "df = df.drop(\"ship_date\").withColumnRenamed(\"ship_date_p1\", \"ship_date\")"
   ]
  },
  {
   "cell_type": "code",
   "execution_count": 83,
   "id": "49dcf61d-9e27-44e6-931d-f4eef9d9d204",
   "metadata": {},
   "outputs": [
    {
     "name": "stdout",
     "output_type": "stream",
     "text": [
      "root\n",
      " |-- order_id: string (nullable = true)\n",
      " |-- order_date: date (nullable = true)\n",
      " |-- delivery_status: string (nullable = true)\n",
      " |-- shipping_type: string (nullable = true)\n",
      " |-- ship_date: date (nullable = true)\n",
      " |-- days_for_shipment_scheduled: integer (nullable = true)\n",
      " |-- days_for_shipment_real: integer (nullable = true)\n",
      "\n"
     ]
    }
   ],
   "source": [
    "order = df.select(\n",
    "    \"order_id\",\n",
    "    \"order_date\",\n",
    "    \"delivery_status\",\n",
    "    \"shipping_type\",\n",
    "    \"ship_date\",\n",
    "    \"days_for_shipment_scheduled\",\n",
    "    \"days_for_shipment_real\"\n",
    ")\n",
    "\n",
    "order.printSchema()"
   ]
  },
  {
   "cell_type": "code",
   "execution_count": 84,
   "id": "7b236bb9-01c1-40e3-8be9-849ba11e0ade",
   "metadata": {},
   "outputs": [],
   "source": [
    "uuid_udf = F.udf(lambda: str(uuid.uuid4()), StringType())"
   ]
  },
  {
   "cell_type": "markdown",
   "id": "8e036d04-4486-42e3-897a-3948b440dfe2",
   "metadata": {},
   "source": [
    "## Extracting unique Customers infomation"
   ]
  },
  {
   "cell_type": "code",
   "execution_count": 85,
   "id": "95bcfa92-68f4-4ba0-aba4-d0f18858f84b",
   "metadata": {},
   "outputs": [
    {
     "name": "stdout",
     "output_type": "stream",
     "text": [
      "root\n",
      " |-- customer_id: string (nullable = true)\n",
      " |-- customer_first_name: string (nullable = true)\n",
      " |-- customer_last_name: string (nullable = true)\n",
      " |-- customer_segment: string (nullable = true)\n",
      " |-- customer_city: string (nullable = true)\n",
      " |-- customer_state: string (nullable = true)\n",
      " |-- customer_country: string (nullable = true)\n",
      " |-- customer_region: string (nullable = true)\n",
      "\n"
     ]
    }
   ],
   "source": [
    "customer_df = df.select(\n",
    "    \"customer_id\",\n",
    "    \"customer_first_name\",\n",
    "    \"customer_last_name\",\n",
    "    \"customer_segment\",\n",
    "    \"customer_city\",\n",
    "    \"customer_state\",\n",
    "    \"customer_country\",\n",
    "    \"customer_region\"\n",
    ").dropDuplicates([\"customer_id\"])\n",
    "customer_df.printSchema()"
   ]
  },
  {
   "cell_type": "code",
   "execution_count": 95,
   "id": "0e167f56-856f-4a9c-95f0-04065859dc3a",
   "metadata": {},
   "outputs": [
    {
     "name": "stdout",
     "output_type": "stream",
     "text": [
      "+-----------+-------------------+------------------+----------------+-------------+--------------+----------------+---------------+\n",
      "|customer_id|customer_first_name|customer_last_name|customer_segment|customer_city|customer_state|customer_country|customer_region|\n",
      "+-----------+-------------------+------------------+----------------+-------------+--------------+----------------+---------------+\n",
      "| C_ID_25006|             Judith|              Derr|        Consumer|    Oceanside|      New York|   United States|           East|\n",
      "| C_ID_25007|            Douglas|            Rawles|        Consumer|  Los Angeles|    California|   United States|           West|\n",
      "| C_ID_25011|            Destiny|           Badders|       Corporate|  New Bedford| Massachusetts|   United States|           East|\n",
      "| C_ID_25021|            Rebecca|         Stevenson|       Corporate|Oklahoma City|      Oklahoma|   United States|        Central|\n",
      "| C_ID_25022|             Daniel|               Epp|        Consumer|      Seattle|    Washington|   United States|           West|\n",
      "| C_ID_25025|              Roger|        Cartwright|       Corporate|   Plantation|       Florida|   United States|          South|\n",
      "| C_ID_25026|            Gregory|            Pardue|     Home Office|   Wilmington|      Delaware|   United States|           East|\n",
      "| C_ID_25027|                Emi|             Hooks|  5 1/2\"\" X 4\"\"\"|     Consumer|    Long Beach|        New York|  United States|\n",
      "| C_ID_25029|             Joseph|               Pak|        Consumer|      Raleigh|North Carolina|   United States|          South|\n",
      "| C_ID_25032|               Mary|            Darley|        Consumer|     Paterson|    New Jersey|   United States|           East|\n",
      "+-----------+-------------------+------------------+----------------+-------------+--------------+----------------+---------------+\n",
      "only showing top 10 rows\n",
      "\n"
     ]
    }
   ],
   "source": [
    "customer_df.show(10)"
   ]
  },
  {
   "cell_type": "markdown",
   "id": "c5c0fa50-0d55-4cd6-b969-83fac7912aeb",
   "metadata": {},
   "source": [
    "### Extracting unique category info and assigning id to the df"
   ]
  },
  {
   "cell_type": "code",
   "execution_count": 87,
   "id": "744eb2f1-6603-4235-866d-05fd1a212937",
   "metadata": {},
   "outputs": [
    {
     "name": "stdout",
     "output_type": "stream",
     "text": [
      "root\n",
      " |-- category_name: string (nullable = true)\n",
      " |-- category_id: long (nullable = false)\n",
      "\n"
     ]
    }
   ],
   "source": [
    "catergory_df = df.select(\n",
    "    \"category_name\"\n",
    ").distinct().withColumn(\"category_id\", F.monotonically_increasing_id()+1)\n",
    "catergory_df.printSchema()"
   ]
  },
  {
   "cell_type": "code",
   "execution_count": 88,
   "id": "d27398c7-9949-4cca-b051-58dc42500731",
   "metadata": {},
   "outputs": [
    {
     "name": "stdout",
     "output_type": "stream",
     "text": [
      "+---------------+-----------+\n",
      "|  category_name|category_id|\n",
      "+---------------+-----------+\n",
      "|Office Supplies|          1|\n",
      "|      Furniture|          2|\n",
      "|     Technology|          3|\n",
      "+---------------+-----------+\n",
      "\n"
     ]
    }
   ],
   "source": [
    "catergory_df.show()"
   ]
  },
  {
   "cell_type": "markdown",
   "id": "6f396942-4a03-4538-aca3-6c4dccdd79cd",
   "metadata": {},
   "source": [
    "### Extracting unique Product info and assigning uuid to the df"
   ]
  },
  {
   "cell_type": "code",
   "execution_count": 89,
   "id": "bc050859-8887-4ac0-a940-f1fb21fea90f",
   "metadata": {},
   "outputs": [
    {
     "name": "stdout",
     "output_type": "stream",
     "text": [
      "root\n",
      " |-- product_name: string (nullable = true)\n",
      " |-- category_id: long (nullable = true)\n",
      " |-- product_id: string (nullable = true)\n",
      "\n"
     ]
    }
   ],
   "source": [
    "# Join category_id with product data\n",
    "product_df = df.select(\"product_name\", \"category_name\").dropDuplicates([\"product_name\"])\n",
    "product_df = product_df.join(\n",
    "    catergory_df, \"category_name\", \"left\"\n",
    ").select(\"product_name\", \"category_id\")\n",
    "\n",
    "# assigning uuid to the df\n",
    "product_df = product_df.withColumn(\"product_id\", uuid_udf())\n",
    "product_df.printSchema()\n"
   ]
  },
  {
   "cell_type": "code",
   "execution_count": 96,
   "id": "0a296e32-9e58-4339-9c78-814a38baa8fb",
   "metadata": {},
   "outputs": [
    {
     "name": "stdout",
     "output_type": "stream",
     "text": [
      "+--------------------+-----------+--------------------+\n",
      "|        product_name|category_id|          product_id|\n",
      "+--------------------+-----------+--------------------+\n",
      "|\"\"\"While you Were...|          1|cfe8609e-a4de-41b...|\n",
      "|\"#10- 4 1/8\"\" x 9...|          1|39e7b3d2-49c5-431...|\n",
      "|\"#10- 4 1/8\"\" x 9...|          1|dc3d5119-84a0-46e...|\n",
      "|\"#10-4 1/8\"\" x 9 ...|          1|f502a7f7-49e6-405...|\n",
      "|\"1.7 Cubic Foot C...|          1|40ee2c5d-920f-4ff...|\n",
      "|\"1/4 Fold Party D...|          1|7612f033-f31e-402...|\n",
      "|\"6\"\" Cubicle Wall...|          2|779c92cf-92f3-426...|\n",
      "|\"Acco Banker's Cl...|          1|7d9645b4-3660-41e...|\n",
      "|\"Acco Data Flex C...|          1|feae9e2e-1105-4d7...|\n",
      "|\"Acco Flexible AC...|          1|1e77664a-e617-487...|\n",
      "+--------------------+-----------+--------------------+\n",
      "only showing top 10 rows\n",
      "\n"
     ]
    }
   ],
   "source": [
    "product_df.show(10)"
   ]
  },
  {
   "cell_type": "markdown",
   "id": "5dda694c-6420-46f7-9e22-0b6b5662b8af",
   "metadata": {},
   "source": [
    "### Extracting unique orders data"
   ]
  },
  {
   "cell_type": "code",
   "execution_count": 101,
   "id": "e390c0ad-7daa-440a-bca6-e590a12a4d93",
   "metadata": {},
   "outputs": [
    {
     "data": {
      "text/plain": [
       "113270"
      ]
     },
     "execution_count": 101,
     "metadata": {},
     "output_type": "execute_result"
    }
   ],
   "source": [
    "order_df = df.select(\n",
    "    \"order_id\",\n",
    "    \"customer_id\",\n",
    "    \"order_date\",\n",
    "    \"delivery_status\",\n",
    "    \"shipping_type\",\n",
    "    \"ship_date\",\n",
    "    \"days_for_shipment_scheduled\",\n",
    "    \"days_for_shipment_real\",\n",
    "    \"sales_per_order\",\n",
    "    \"profit_per_order\"\n",
    ")\n",
    "order_df.count()"
   ]
  },
  {
   "cell_type": "code",
   "execution_count": 106,
   "id": "720ba10a-5a47-4254-a70b-21648b132f4f",
   "metadata": {},
   "outputs": [
    {
     "name": "stdout",
     "output_type": "stream",
     "text": [
      "+------------+-----+\n",
      "|    order_id|count|\n",
      "+------------+-----+\n",
      "|O_ID_3000454|    1|\n",
      "|O_ID_3000654|    1|\n",
      "|O_ID_3056551|    1|\n",
      "|O_ID_3059003|    1|\n",
      "|O_ID_3001261|    1|\n",
      "|O_ID_3001339|    1|\n",
      "|O_ID_3001644|    1|\n",
      "|O_ID_3001987|    1|\n",
      "|O_ID_3032246|    1|\n",
      "|O_ID_3002256|    1|\n",
      "|O_ID_3002330|    1|\n",
      "|O_ID_3002460|    1|\n",
      "|O_ID_3002463|    1|\n",
      "|O_ID_3002825|    1|\n",
      "|O_ID_3002994|    1|\n",
      "|O_ID_3003047|    1|\n",
      "|O_ID_3003080|    1|\n",
      "|O_ID_3003156|    1|\n",
      "|O_ID_3003317|    1|\n",
      "|O_ID_3003536|    1|\n",
      "+------------+-----+\n",
      "only showing top 20 rows\n",
      "\n"
     ]
    }
   ],
   "source": [
    "order_df.groupBy(\"order_id\").count().orderBy(\"count\").show()"
   ]
  },
  {
   "cell_type": "code",
   "execution_count": 100,
   "id": "8336aeaf-8c7e-42b2-9e94-3626669393f9",
   "metadata": {},
   "outputs": [
    {
     "name": "stdout",
     "output_type": "stream",
     "text": [
      "+----------+-----------+----------+---------------+-------------+---------+---------------------------+----------------------+---------------+----------------+\n",
      "|  order_id|customer_id|order_date|delivery_status|shipping_type|ship_date|days_for_shipment_scheduled|days_for_shipment_real|sales_per_order|profit_per_order|\n",
      "+----------+-----------+----------+---------------+-------------+---------+---------------------------+----------------------+---------------+----------------+\n",
      "|  1/1/2022| C_ID_58305|      NULL|           East|     4/4/2022|     NULL|                       NULL|                     4|    59.99000168|             5.0|\n",
      "| 1/11/2021| C_ID_74446|      NULL|           East|    3/11/2021|     NULL|                       NULL|                     4|           32.0|             1.0|\n",
      "|  1/2/2021| C_ID_67492|      NULL|           East|     3/2/2021|     NULL|                       NULL|                     4|    31.98999977|             5.0|\n",
      "|  1/3/2021| C_ID_40112|      NULL|           East|     3/3/2021|     NULL|                       NULL|                     4|    29.98999977|             5.0|\n",
      "|  1/4/2022| C_ID_35330|      NULL|           West|     3/4/2022|     NULL|                       NULL|                     1|           21.0|             5.0|\n",
      "|  1/5/2022| C_ID_37254|      NULL|          South|     8/3/2022|     NULL|                       NULL|                     2|            0.0|             1.0|\n",
      "|  1/9/2021| C_ID_42182|      NULL|           West|    12/4/2021|     NULL|                       NULL|                     4|           30.0|             1.0|\n",
      "|10/10/2021| C_ID_26077|      NULL|        Central|   10/12/2021|     NULL|                       NULL|                     4|           20.0|             1.0|\n",
      "| 10/4/2021| C_ID_41106|      NULL|           West|    10/6/2021|     NULL|                       NULL|                     2|           30.0|             1.0|\n",
      "| 10/8/2021| C_ID_71335|      NULL|           East|   10/12/2021|     NULL|                       NULL|                     4|    11.69999981|             1.0|\n",
      "+----------+-----------+----------+---------------+-------------+---------+---------------------------+----------------------+---------------+----------------+\n",
      "only showing top 10 rows\n",
      "\n"
     ]
    }
   ],
   "source": [
    "order_df.show(10)"
   ]
  },
  {
   "cell_type": "code",
   "execution_count": 9,
   "id": "186c70dc-527f-4e4d-a712-bf0649a71987",
   "metadata": {},
   "outputs": [],
   "source": [
    "db_url = \"jdbc:postgresql://postgres:5432/airflow\"\n",
    "db_properties = {\"user\": \"airflow\", \"password\": \"airflow\", \"driver\": \"org.postgresql.Driver\"}\n",
    "df_new.write.format(\"jdbc\") \\\n",
    "    .option(\"url\", db_url) \\\n",
    "    .option(\"dbtable\", \"public.ecommerce\") \\\n",
    "    .option(\"user\", db_properties[\"user\"]) \\\n",
    "    .option(\"password\", db_properties[\"password\"]) \\\n",
    "    .option(\"driver\", db_properties[\"driver\"]) \\\n",
    "    .mode(\"append\") \\\n",
    "    .save()"
   ]
  },
  {
   "cell_type": "code",
   "execution_count": null,
   "id": "39a369fe-cea4-4bba-92ed-536f7d9bf481",
   "metadata": {},
   "outputs": [],
   "source": []
  },
  {
   "cell_type": "code",
   "execution_count": null,
   "id": "f5d59566-c845-4269-b0fd-a2c216cc3f58",
   "metadata": {},
   "outputs": [],
   "source": []
  },
  {
   "cell_type": "code",
   "execution_count": null,
   "id": "9db5b3f4-3273-44fd-be35-344c36fe8226",
   "metadata": {},
   "outputs": [],
   "source": []
  }
 ],
 "metadata": {
  "kernelspec": {
   "display_name": "Python 3 (ipykernel)",
   "language": "python",
   "name": "python3"
  },
  "language_info": {
   "codemirror_mode": {
    "name": "ipython",
    "version": 3
   },
   "file_extension": ".py",
   "mimetype": "text/x-python",
   "name": "python",
   "nbconvert_exporter": "python",
   "pygments_lexer": "ipython3",
   "version": "3.11.6"
  }
 },
 "nbformat": 4,
 "nbformat_minor": 5
}
